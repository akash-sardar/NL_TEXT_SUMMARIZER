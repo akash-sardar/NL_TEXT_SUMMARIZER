{
 "cells": [
  {
   "cell_type": "code",
   "execution_count": 1,
   "metadata": {},
   "outputs": [
    {
     "data": {
      "text/plain": [
       "'d:\\\\PracticeProjects\\\\NL_Text_Summarization\\\\NL_TEXT_SUMMARIZER'"
      ]
     },
     "execution_count": 1,
     "metadata": {},
     "output_type": "execute_result"
    }
   ],
   "source": [
    "import os\n",
    "os.chdir(\"../\")\n",
    "%pwd"
   ]
  },
  {
   "cell_type": "code",
   "execution_count": 2,
   "metadata": {},
   "outputs": [],
   "source": [
    "# This block will later be moved to entity\n",
    "\n",
    "from dataclasses import dataclass\n",
    "from pathlib import Path\n",
    "\n",
    "@dataclass(frozen = True)\n",
    "class ModelEvaluationConfig:\n",
    "  root_dir: Path\n",
    "  data_path: Path\n",
    "  model_path: Path\n",
    "  tokenizer_path: Path\n",
    "  metric_file_name: Path"
   ]
  },
  {
   "cell_type": "code",
   "execution_count": 3,
   "metadata": {},
   "outputs": [],
   "source": [
    "# Define Config Manager\n",
    "from NLPTextSummarizer.constants import *\n",
    "from NLPTextSummarizer.utils.common import read_yaml, create_directories\n",
    "\n",
    "# 4. Update the configuration manager(./src/project_name/config/configuration.py)\n",
    "class ConfigurationManager:\n",
    "    def __init__(self, config_filepath = CONFIG_FILE_PATH, params_filepath = PARAMS_FILE_PATH):\n",
    "        #print(CONFIG_FILE_PATH)\n",
    "        self.config = read_yaml(config_filepath)\n",
    "        self.params = read_yaml(params_filepath) \n",
    "        create_directories([self.config.artifacts_root])\n",
    "\n",
    "    \n",
    "    def get_model_evaluation_config(self) -> ModelEvaluationConfig:\n",
    "        # Move config path dict from config.yaml\n",
    "        config = self.config.model_evaluation\n",
    "\n",
    "        # create the directories as mentioned in config.yaml\n",
    "        create_directories([config.root_dir])\n",
    "\n",
    "        model_evaluation_config = ModelEvaluationConfig(\n",
    "            root_dir = config.root_dir,\n",
    "            data_path = config.data_path,\n",
    "            model_path = config.model_path,\n",
    "            tokenizer_path = config.tokenizer_path,\n",
    "            metric_file_name = config.metric_file_name\n",
    "        )\n",
    "        return model_evaluation_config"
   ]
  },
  {
   "cell_type": "code",
   "execution_count": 4,
   "metadata": {},
   "outputs": [
    {
     "name": "stderr",
     "output_type": "stream",
     "text": [
      "d:\\Softwares\\Anaconda3\\envs\\NLP_TextSummarization_VENV\\Lib\\site-packages\\tqdm\\auto.py:21: TqdmWarning: IProgress not found. Please update jupyter and ipywidgets. See https://ipywidgets.readthedocs.io/en/stable/user_install.html\n",
      "  from .autonotebook import tqdm as notebook_tqdm\n"
     ]
    },
    {
     "name": "stdout",
     "output_type": "stream",
     "text": [
      "[2024-05-08 02:08:31,126: INFO: config: PyTorch version 2.3.0+cu118 available.]\n"
     ]
    }
   ],
   "source": [
    "# Define components\n",
    "# 5. Update the components (./src/project_name/components/__init__.py)\n",
    "import os\n",
    "from NLPTextSummarizer.logging import logger\n",
    "from transformers import DataCollatorForSeq2Seq # type: ignore\n",
    "from transformers import AutoTokenizer, AutoModelForSeq2SeqLM, Trainer, TrainingArguments # type: ignore\n",
    "from datasets import load_from_disk, load_metric # type: ignore\n",
    "import torch # type: ignore\n",
    "from tqdm import tqdm # type: ignore\n",
    "import pandas as pd # type: ignore\n",
    "\n",
    "class ModelEvaluation:\n",
    "    def __init__(self, config:ModelEvaluationConfig):\n",
    "        self.config = config\n",
    "    \n",
    "    def evaluate(self):\n",
    "        device = \"cuda\" if torch.cuda.is_available() else \"cpu\"\n",
    "        model = AutoModelForSeq2SeqLM.from_pretrained(self.config.model_path).to(device)\n",
    "        tokenizer = AutoTokenizer.from_pretrained(self.config.tokenizer_path)\n",
    "        rouge_metric = load_metric(\"rouge\", trust_remote_code=True)\n",
    "        rouge_names = [\"rouge1\", \"rouge2\", \"rougeL\", \"rougeLsum\"]\n",
    "        dataset_samsum_pt = load_from_disk(self.config.data_path)\n",
    "        score = self.evaluate_score( dataset_samsum_pt[\"test\"], rouge_metric,model, tokenizer, batch_size=2, device = device,  column_text=\"dialogue\", column_summaries=\"summary\")\n",
    "        rouge_dict = dict((rn, score[rn].mid.fmeasure) for rn in rouge_names)\n",
    "        pd.DataFrame(rouge_dict, index=[f\"pegasus\"]).to_csv(self.config.metric_file_name, index = False)      \n",
    "\n",
    "    def chunks(self, list_of_elements, batch_size):\n",
    "        for i in range(0, len(list_of_elements), batch_size):\n",
    "            yield list_of_elements[i:i+batch_size]\n",
    "\n",
    "    def evaluate_score(self, dataset, metric, model, tokenizer, batch_size = 16, device = \"cpu\", column_text = \"article\", column_summaries = \"highlights\"):\n",
    "        article_batches = list(self.chunks(dataset[column_text], batch_size))\n",
    "        target_batches = list(self.chunks(dataset[column_summaries], batch_size))\n",
    "        for article_batch, target_batch in tqdm(zip(article_batches, target_batches), total = len(article_batches)):\n",
    "            inputs = tokenizer(article_batch, max_length = 1024, truncation = True, padding = \"max_length\", return_tensors = \"pt\")\n",
    "            summaries = model.generate(\n",
    "                input_ids = inputs[\"input_ids\"].to(device),\n",
    "                attention_mask = inputs[\"attention_mask\"].to(device),\n",
    "                length_penalty = 0.8,\n",
    "                max_length = 128\n",
    "            )\n",
    "            decoded_summaries = [tokenizer.decode(s, skip_special_tokes = True, clean_up_tokenization_spaces = True) for s in summaries]\n",
    "            decoded_summaries = [d.replace(\"<n>\",\" \") for d in decoded_summaries]\n",
    "            metric.add_batch(predictions = decoded_summaries, references = target_batch)\n",
    "\n",
    "            \n",
    "        score = metric.compute()\n",
    "        return score\n"
   ]
  },
  {
   "cell_type": "code",
   "execution_count": 5,
   "metadata": {},
   "outputs": [
    {
     "name": "stdout",
     "output_type": "stream",
     "text": [
      "[2024-05-08 02:08:31,447: INFO: common: yaml file: D:\\PracticeProjects\\NL_Text_Summarization\\NL_TEXT_SUMMARIZER\\config\\config.yaml loaded successfully]\n",
      "[2024-05-08 02:08:31,449: INFO: common: yaml file: D:\\PracticeProjects\\NL_Text_Summarization\\NL_TEXT_SUMMARIZER\\params.yaml loaded successfully]\n",
      "[2024-05-08 02:08:31,450: INFO: common: created directory at: artifacts]\n",
      "[2024-05-08 02:08:31,451: INFO: common: created directory at: artifacts/model_evaluation]\n"
     ]
    },
    {
     "ename": "UnboundLocalError",
     "evalue": "cannot access local variable 'device' where it is not associated with a value",
     "output_type": "error",
     "traceback": [
      "\u001b[1;31m---------------------------------------------------------------------------\u001b[0m",
      "\u001b[1;31mUnboundLocalError\u001b[0m                         Traceback (most recent call last)",
      "Cell \u001b[1;32mIn[5], line 8\u001b[0m\n\u001b[0;32m      6\u001b[0m     model_evaluation\u001b[38;5;241m.\u001b[39mevaluate()\n\u001b[0;32m      7\u001b[0m \u001b[38;5;28;01mexcept\u001b[39;00m \u001b[38;5;167;01mException\u001b[39;00m \u001b[38;5;28;01mas\u001b[39;00m e:\n\u001b[1;32m----> 8\u001b[0m     \u001b[38;5;28;01mraise\u001b[39;00m e\n",
      "Cell \u001b[1;32mIn[5], line 6\u001b[0m\n\u001b[0;32m      4\u001b[0m     model_evaluation_config \u001b[38;5;241m=\u001b[39m config\u001b[38;5;241m.\u001b[39mget_model_evaluation_config()\n\u001b[0;32m      5\u001b[0m     model_evaluation \u001b[38;5;241m=\u001b[39m ModelEvaluation(config \u001b[38;5;241m=\u001b[39m model_evaluation_config) \n\u001b[1;32m----> 6\u001b[0m     \u001b[43mmodel_evaluation\u001b[49m\u001b[38;5;241;43m.\u001b[39;49m\u001b[43mevaluate\u001b[49m\u001b[43m(\u001b[49m\u001b[43m)\u001b[49m\n\u001b[0;32m      7\u001b[0m \u001b[38;5;28;01mexcept\u001b[39;00m \u001b[38;5;167;01mException\u001b[39;00m \u001b[38;5;28;01mas\u001b[39;00m e:\n\u001b[0;32m      8\u001b[0m     \u001b[38;5;28;01mraise\u001b[39;00m e\n",
      "Cell \u001b[1;32mIn[4], line 17\u001b[0m, in \u001b[0;36mModelEvaluation.evaluate\u001b[1;34m(self)\u001b[0m\n\u001b[0;32m     16\u001b[0m \u001b[38;5;28;01mdef\u001b[39;00m \u001b[38;5;21mevaluate\u001b[39m(\u001b[38;5;28mself\u001b[39m):\n\u001b[1;32m---> 17\u001b[0m     model \u001b[38;5;241m=\u001b[39m AutoModelForSeq2SeqLM\u001b[38;5;241m.\u001b[39mfrom_pretrained(\u001b[38;5;28mself\u001b[39m\u001b[38;5;241m.\u001b[39mconfig\u001b[38;5;241m.\u001b[39mmodel_path)\u001b[38;5;241m.\u001b[39mto(\u001b[43mdevice\u001b[49m)\n\u001b[0;32m     18\u001b[0m     tokenizer \u001b[38;5;241m=\u001b[39m AutoTokenizer\u001b[38;5;241m.\u001b[39mfrom_pretrained(\u001b[38;5;28mself\u001b[39m\u001b[38;5;241m.\u001b[39mconfig\u001b[38;5;241m.\u001b[39mtokenizer_path)\n\u001b[0;32m     19\u001b[0m     rouge_metric \u001b[38;5;241m=\u001b[39m load_metric(\u001b[38;5;124m\"\u001b[39m\u001b[38;5;124mrouge\u001b[39m\u001b[38;5;124m\"\u001b[39m, trust_remote_code\u001b[38;5;241m=\u001b[39m\u001b[38;5;28;01mTrue\u001b[39;00m)\n",
      "\u001b[1;31mUnboundLocalError\u001b[0m: cannot access local variable 'device' where it is not associated with a value"
     ]
    }
   ],
   "source": [
    "# Pipeline component\n",
    "try:\n",
    "    config = ConfigurationManager()\n",
    "    model_evaluation_config = config.get_model_evaluation_config()\n",
    "    model_evaluation = ModelEvaluation(config = model_evaluation_config) \n",
    "    model_evaluation.evaluate()\n",
    "except Exception as e:\n",
    "    raise e"
   ]
  },
  {
   "cell_type": "code",
   "execution_count": null,
   "metadata": {},
   "outputs": [],
   "source": []
  }
 ],
 "metadata": {
  "kernelspec": {
   "display_name": "NLP_TextSummarization_VENV",
   "language": "python",
   "name": "python3"
  },
  "language_info": {
   "codemirror_mode": {
    "name": "ipython",
    "version": 3
   },
   "file_extension": ".py",
   "mimetype": "text/x-python",
   "name": "python",
   "nbconvert_exporter": "python",
   "pygments_lexer": "ipython3",
   "version": "3.11.9"
  }
 },
 "nbformat": 4,
 "nbformat_minor": 2
}
